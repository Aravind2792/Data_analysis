{
 "cells": [
  {
   "cell_type": "code",
   "execution_count": 1,
   "metadata": {},
   "outputs": [],
   "source": [
    "import pandas as pd\n",
    "import numpy as np\n",
    "import matplotlib.pyplot as plt\n",
    "%matplotlib inline"
   ]
  },
  {
   "cell_type": "code",
   "execution_count": 2,
   "metadata": {},
   "outputs": [],
   "source": [
    "#Reading the prediction csv file\n",
    "df_pred=pd.read_csv('prediction_data.csv')"
   ]
  },
  {
   "cell_type": "code",
   "execution_count": 4,
   "metadata": {},
   "outputs": [
    {
     "data": {
      "text/html": [
       "<div>\n",
       "<style scoped>\n",
       "    .dataframe tbody tr th:only-of-type {\n",
       "        vertical-align: middle;\n",
       "    }\n",
       "\n",
       "    .dataframe tbody tr th {\n",
       "        vertical-align: top;\n",
       "    }\n",
       "\n",
       "    .dataframe thead th {\n",
       "        text-align: right;\n",
       "    }\n",
       "</style>\n",
       "<table border=\"1\" class=\"dataframe\">\n",
       "  <thead>\n",
       "    <tr style=\"text-align: right;\">\n",
       "      <th></th>\n",
       "      <th>tweet_id</th>\n",
       "      <th>jpg_url</th>\n",
       "      <th>img_num</th>\n",
       "      <th>p1</th>\n",
       "      <th>p1_conf</th>\n",
       "      <th>p1_dog</th>\n",
       "      <th>p2</th>\n",
       "      <th>p2_conf</th>\n",
       "      <th>p2_dog</th>\n",
       "      <th>p3</th>\n",
       "      <th>p3_conf</th>\n",
       "      <th>p3_dog</th>\n",
       "    </tr>\n",
       "  </thead>\n",
       "  <tbody>\n",
       "    <tr>\n",
       "      <th>0</th>\n",
       "      <td>666020888022790149</td>\n",
       "      <td>https://pbs.twimg.com/media/CT4udn0WwAA0aMy.jpg</td>\n",
       "      <td>1</td>\n",
       "      <td>welsh_springer_spaniel</td>\n",
       "      <td>0.465074</td>\n",
       "      <td>True</td>\n",
       "      <td>collie</td>\n",
       "      <td>0.156665</td>\n",
       "      <td>True</td>\n",
       "      <td>shetland_sheepdog</td>\n",
       "      <td>0.061428</td>\n",
       "      <td>True</td>\n",
       "    </tr>\n",
       "    <tr>\n",
       "      <th>1</th>\n",
       "      <td>666029285002620928</td>\n",
       "      <td>https://pbs.twimg.com/media/CT42GRgUYAA5iDo.jpg</td>\n",
       "      <td>1</td>\n",
       "      <td>redbone</td>\n",
       "      <td>0.506826</td>\n",
       "      <td>True</td>\n",
       "      <td>miniature_pinscher</td>\n",
       "      <td>0.074192</td>\n",
       "      <td>True</td>\n",
       "      <td>rhodesian_ridgeback</td>\n",
       "      <td>0.072010</td>\n",
       "      <td>True</td>\n",
       "    </tr>\n",
       "    <tr>\n",
       "      <th>2</th>\n",
       "      <td>666033412701032449</td>\n",
       "      <td>https://pbs.twimg.com/media/CT4521TWwAEvMyu.jpg</td>\n",
       "      <td>1</td>\n",
       "      <td>german_shepherd</td>\n",
       "      <td>0.596461</td>\n",
       "      <td>True</td>\n",
       "      <td>malinois</td>\n",
       "      <td>0.138584</td>\n",
       "      <td>True</td>\n",
       "      <td>bloodhound</td>\n",
       "      <td>0.116197</td>\n",
       "      <td>True</td>\n",
       "    </tr>\n",
       "    <tr>\n",
       "      <th>3</th>\n",
       "      <td>666044226329800704</td>\n",
       "      <td>https://pbs.twimg.com/media/CT5Dr8HUEAA-lEu.jpg</td>\n",
       "      <td>1</td>\n",
       "      <td>rhodesian_ridgeback</td>\n",
       "      <td>0.408143</td>\n",
       "      <td>True</td>\n",
       "      <td>redbone</td>\n",
       "      <td>0.360687</td>\n",
       "      <td>True</td>\n",
       "      <td>miniature_pinscher</td>\n",
       "      <td>0.222752</td>\n",
       "      <td>True</td>\n",
       "    </tr>\n",
       "    <tr>\n",
       "      <th>4</th>\n",
       "      <td>666049248165822465</td>\n",
       "      <td>https://pbs.twimg.com/media/CT5IQmsXIAAKY4A.jpg</td>\n",
       "      <td>1</td>\n",
       "      <td>miniature_pinscher</td>\n",
       "      <td>0.560311</td>\n",
       "      <td>True</td>\n",
       "      <td>rottweiler</td>\n",
       "      <td>0.243682</td>\n",
       "      <td>True</td>\n",
       "      <td>doberman</td>\n",
       "      <td>0.154629</td>\n",
       "      <td>True</td>\n",
       "    </tr>\n",
       "  </tbody>\n",
       "</table>\n",
       "</div>"
      ],
      "text/plain": [
       "             tweet_id                                          jpg_url  \\\n",
       "0  666020888022790149  https://pbs.twimg.com/media/CT4udn0WwAA0aMy.jpg   \n",
       "1  666029285002620928  https://pbs.twimg.com/media/CT42GRgUYAA5iDo.jpg   \n",
       "2  666033412701032449  https://pbs.twimg.com/media/CT4521TWwAEvMyu.jpg   \n",
       "3  666044226329800704  https://pbs.twimg.com/media/CT5Dr8HUEAA-lEu.jpg   \n",
       "4  666049248165822465  https://pbs.twimg.com/media/CT5IQmsXIAAKY4A.jpg   \n",
       "\n",
       "   img_num                      p1   p1_conf  p1_dog                  p2  \\\n",
       "0        1  welsh_springer_spaniel  0.465074    True              collie   \n",
       "1        1                 redbone  0.506826    True  miniature_pinscher   \n",
       "2        1         german_shepherd  0.596461    True            malinois   \n",
       "3        1     rhodesian_ridgeback  0.408143    True             redbone   \n",
       "4        1      miniature_pinscher  0.560311    True          rottweiler   \n",
       "\n",
       "    p2_conf  p2_dog                   p3   p3_conf  p3_dog  \n",
       "0  0.156665    True    shetland_sheepdog  0.061428    True  \n",
       "1  0.074192    True  rhodesian_ridgeback  0.072010    True  \n",
       "2  0.138584    True           bloodhound  0.116197    True  \n",
       "3  0.360687    True   miniature_pinscher  0.222752    True  \n",
       "4  0.243682    True             doberman  0.154629    True  "
      ]
     },
     "execution_count": 4,
     "metadata": {},
     "output_type": "execute_result"
    }
   ],
   "source": [
    "#checking on the first 5 rows\n",
    "df_pred.head()"
   ]
  },
  {
   "cell_type": "markdown",
   "metadata": {},
   "source": [
    "<b> Top tweeted/posted Breeds </B>"
   ]
  },
  {
   "cell_type": "code",
   "execution_count": 5,
   "metadata": {},
   "outputs": [
    {
     "data": {
      "text/html": [
       "<div>\n",
       "<style scoped>\n",
       "    .dataframe tbody tr th:only-of-type {\n",
       "        vertical-align: middle;\n",
       "    }\n",
       "\n",
       "    .dataframe tbody tr th {\n",
       "        vertical-align: top;\n",
       "    }\n",
       "\n",
       "    .dataframe thead th {\n",
       "        text-align: right;\n",
       "    }\n",
       "</style>\n",
       "<table border=\"1\" class=\"dataframe\">\n",
       "  <thead>\n",
       "    <tr style=\"text-align: right;\">\n",
       "      <th></th>\n",
       "      <th>breeds</th>\n",
       "      <th>p1</th>\n",
       "    </tr>\n",
       "  </thead>\n",
       "  <tbody>\n",
       "    <tr>\n",
       "      <th>0</th>\n",
       "      <td>golden_retriever</td>\n",
       "      <td>126</td>\n",
       "    </tr>\n",
       "    <tr>\n",
       "      <th>1</th>\n",
       "      <td>pembroke</td>\n",
       "      <td>78</td>\n",
       "    </tr>\n",
       "    <tr>\n",
       "      <th>2</th>\n",
       "      <td>labrador_retriever</td>\n",
       "      <td>77</td>\n",
       "    </tr>\n",
       "    <tr>\n",
       "      <th>3</th>\n",
       "      <td>chihuahua</td>\n",
       "      <td>54</td>\n",
       "    </tr>\n",
       "    <tr>\n",
       "      <th>4</th>\n",
       "      <td>pug</td>\n",
       "      <td>41</td>\n",
       "    </tr>\n",
       "  </tbody>\n",
       "</table>\n",
       "</div>"
      ],
      "text/plain": [
       "               breeds   p1\n",
       "0    golden_retriever  126\n",
       "1            pembroke   78\n",
       "2  labrador_retriever   77\n",
       "3           chihuahua   54\n",
       "4                 pug   41"
      ]
     },
     "execution_count": 5,
     "metadata": {},
     "output_type": "execute_result"
    }
   ],
   "source": [
    "#Taking the value count into Dataframe\n",
    "top_breeds=pd.DataFrame(df_pred['p1'].value_counts())\n",
    "top_breeds.reset_index(inplace=True)\n",
    "top_breeds.rename(columns={'index':'breeds'},inplace=True)\n",
    "top_breeds.head()"
   ]
  },
  {
   "cell_type": "code",
   "execution_count": 6,
   "metadata": {},
   "outputs": [
    {
     "data": {
      "text/plain": [
       "Text(0.5,1,'Top 5 popular/tweeted breeds')"
      ]
     },
     "execution_count": 6,
     "metadata": {},
     "output_type": "execute_result"
    },
    {
     "data": {
      "image/png": "[encoded data removed]",
      "text/plain": [
       "<matplotlib.figure.Figure at 0x7f35435a1278>"
      ]
     },
     "metadata": {
      "needs_background": "light"
     },
     "output_type": "display_data"
    }
   ],
   "source": [
    "#plotting the value count of the most popular/tweeted breeds\n",
    "plt.figure(figsize=(10,5))\n",
    "plt.bar(top_breeds.breeds[:5],top_breeds.p1[:5])\n",
    "plt.xlabel('Breeds',fontsize=15)\n",
    "plt.ylabel('Count',fontsize=15)\n",
    "plt.title('Top 5 popular/tweeted breeds',fontsize=15)"
   ]
  },
  {
   "cell_type": "markdown",
   "metadata": {},
   "source": [
    "<b>Inference: The golden retreiver as expected, pug, labrador retriever are among the most tweeted breeds in the account</b>"
   ]
  },
  {
   "cell_type": "markdown",
   "metadata": {},
   "source": [
    "<b> Checking out the avg accuracy of algorithm </b>"
   ]
  },
  {
   "cell_type": "code",
   "execution_count": 7,
   "metadata": {},
   "outputs": [],
   "source": [
    "acc_1=df_pred['p1_conf'].mean()\n",
    "acc_2=df_pred['p2_conf'].mean()\n",
    "acc_3=df_pred['p3_conf'].mean()\n",
    "d={'Algorithms':['Algo-1','Algo-2','Algo-3'],'Accuracy':[acc_1,acc_2,acc_3]}"
   ]
  },
  {
   "cell_type": "code",
   "execution_count": 8,
   "metadata": {},
   "outputs": [
    {
     "data": {
      "text/html": [
       "<div>\n",
       "<style scoped>\n",
       "    .dataframe tbody tr th:only-of-type {\n",
       "        vertical-align: middle;\n",
       "    }\n",
       "\n",
       "    .dataframe tbody tr th {\n",
       "        vertical-align: top;\n",
       "    }\n",
       "\n",
       "    .dataframe thead th {\n",
       "        text-align: right;\n",
       "    }\n",
       "</style>\n",
       "<table border=\"1\" class=\"dataframe\">\n",
       "  <thead>\n",
       "    <tr style=\"text-align: right;\">\n",
       "      <th></th>\n",
       "      <th>Algorithms</th>\n",
       "      <th>Accuracy</th>\n",
       "    </tr>\n",
       "  </thead>\n",
       "  <tbody>\n",
       "    <tr>\n",
       "      <th>0</th>\n",
       "      <td>Algo-1</td>\n",
       "      <td>0.627221</td>\n",
       "    </tr>\n",
       "    <tr>\n",
       "      <th>1</th>\n",
       "      <td>Algo-2</td>\n",
       "      <td>0.143309</td>\n",
       "    </tr>\n",
       "    <tr>\n",
       "      <th>2</th>\n",
       "      <td>Algo-3</td>\n",
       "      <td>0.061627</td>\n",
       "    </tr>\n",
       "  </tbody>\n",
       "</table>\n",
       "</div>"
      ],
      "text/plain": [
       "  Algorithms  Accuracy\n",
       "0     Algo-1  0.627221\n",
       "1     Algo-2  0.143309\n",
       "2     Algo-3  0.061627"
      ]
     },
     "execution_count": 8,
     "metadata": {},
     "output_type": "execute_result"
    }
   ],
   "source": [
    "df_acc=pd.DataFrame(d)\n",
    "df_acc"
   ]
  },
  {
   "cell_type": "code",
   "execution_count": 9,
   "metadata": {},
   "outputs": [
    {
     "data": {
      "text/plain": [
       "Text(0.5,1,'Algorithm Confidency Interval')"
      ]
     },
     "execution_count": 9,
     "metadata": {},
     "output_type": "execute_result"
    },
    {
     "data": {
      "image/png": "[encoded data removed]",
      "text/plain": [
       "<matplotlib.figure.Figure at 0x7f35414e54e0>"
      ]
     },
     "metadata": {
      "needs_background": "light"
     },
     "output_type": "display_data"
    }
   ],
   "source": [
    "plt.figure(figsize=(10,5))\n",
    "plt.scatter(df_acc['Algorithms'],df_acc['Accuracy'],s=df_acc['Accuracy']*10000,alpha=0.7,  c=df_acc['Accuracy'],cmap=\"BuPu\",edgecolors='black')\n",
    "plt.xlabel('Algorithm',fontsize=15)\n",
    "plt.ylabel('Avg CI',fontsize=15)\n",
    "plt.title('Algorithm Confidency Interval',fontsize=15)"
   ]
  },
  {
   "cell_type": "markdown",
   "metadata": {},
   "source": [
    "<b> As it can be inferred from the above insight that algorithm-1 has highest average accuracy </b>"
   ]
  },
  {
   "cell_type": "code",
   "execution_count": 10,
   "metadata": {},
   "outputs": [],
   "source": [
    "#Reading the prediction csv file\n",
    "df_twitter=pd.read_csv('Twitter_data.csv')"
   ]
  },
  {
   "cell_type": "code",
   "execution_count": 11,
   "metadata": {
    "scrolled": true
   },
   "outputs": [
    {
     "data": {
      "text/html": [
       "<div>\n",
       "<style scoped>\n",
       "    .dataframe tbody tr th:only-of-type {\n",
       "        vertical-align: middle;\n",
       "    }\n",
       "\n",
       "    .dataframe tbody tr th {\n",
       "        vertical-align: top;\n",
       "    }\n",
       "\n",
       "    .dataframe thead th {\n",
       "        text-align: right;\n",
       "    }\n",
       "</style>\n",
       "<table border=\"1\" class=\"dataframe\">\n",
       "  <thead>\n",
       "    <tr style=\"text-align: right;\">\n",
       "      <th></th>\n",
       "      <th>tweet_id</th>\n",
       "      <th>timestamp</th>\n",
       "      <th>text</th>\n",
       "      <th>rating_numerator</th>\n",
       "      <th>rating_denominator</th>\n",
       "      <th>name</th>\n",
       "      <th>DogStage</th>\n",
       "      <th>favorite_count</th>\n",
       "      <th>retweet_count</th>\n",
       "    </tr>\n",
       "  </thead>\n",
       "  <tbody>\n",
       "    <tr>\n",
       "      <th>0</th>\n",
       "      <td>8.902403e+17</td>\n",
       "      <td>2017-07-26 15:59:51</td>\n",
       "      <td>This is Cassie. She is a college pup. Studying...</td>\n",
       "      <td>14.0</td>\n",
       "      <td>10.0</td>\n",
       "      <td>Cassie</td>\n",
       "      <td>doggo</td>\n",
       "      <td>NaN</td>\n",
       "      <td>NaN</td>\n",
       "    </tr>\n",
       "    <tr>\n",
       "      <th>1</th>\n",
       "      <td>8.896654e+17</td>\n",
       "      <td>2017-07-25 01:55:32</td>\n",
       "      <td>Here's a puppo that seems to be on the fence a...</td>\n",
       "      <td>13.0</td>\n",
       "      <td>10.0</td>\n",
       "      <td>None</td>\n",
       "      <td>puppo</td>\n",
       "      <td>NaN</td>\n",
       "      <td>NaN</td>\n",
       "    </tr>\n",
       "    <tr>\n",
       "      <th>2</th>\n",
       "      <td>8.895311e+17</td>\n",
       "      <td>2017-07-24 17:02:04</td>\n",
       "      <td>This is Stuart. He's sporting his favorite fan...</td>\n",
       "      <td>13.0</td>\n",
       "      <td>10.0</td>\n",
       "      <td>Stuart</td>\n",
       "      <td>puppo</td>\n",
       "      <td>NaN</td>\n",
       "      <td>NaN</td>\n",
       "    </tr>\n",
       "    <tr>\n",
       "      <th>3</th>\n",
       "      <td>8.863661e+17</td>\n",
       "      <td>2017-07-15 23:25:31</td>\n",
       "      <td>This is Roscoe. Another pupper fallen victim t...</td>\n",
       "      <td>12.0</td>\n",
       "      <td>10.0</td>\n",
       "      <td>Roscoe</td>\n",
       "      <td>pupper</td>\n",
       "      <td>3316.0</td>\n",
       "      <td>21524.0</td>\n",
       "    </tr>\n",
       "    <tr>\n",
       "      <th>4</th>\n",
       "      <td>8.863661e+17</td>\n",
       "      <td>2017-07-15 23:25:31</td>\n",
       "      <td>This is Roscoe. Another pupper fallen victim t...</td>\n",
       "      <td>12.0</td>\n",
       "      <td>10.0</td>\n",
       "      <td>Roscoe</td>\n",
       "      <td>pupper</td>\n",
       "      <td>3316.0</td>\n",
       "      <td>21524.0</td>\n",
       "    </tr>\n",
       "  </tbody>\n",
       "</table>\n",
       "</div>"
      ],
      "text/plain": [
       "       tweet_id            timestamp  \\\n",
       "0  8.902403e+17  2017-07-26 15:59:51   \n",
       "1  8.896654e+17  2017-07-25 01:55:32   \n",
       "2  8.895311e+17  2017-07-24 17:02:04   \n",
       "3  8.863661e+17  2017-07-15 23:25:31   \n",
       "4  8.863661e+17  2017-07-15 23:25:31   \n",
       "\n",
       "                                                text  rating_numerator  \\\n",
       "0  This is Cassie. She is a college pup. Studying...              14.0   \n",
       "1  Here's a puppo that seems to be on the fence a...              13.0   \n",
       "2  This is Stuart. He's sporting his favorite fan...              13.0   \n",
       "3  This is Roscoe. Another pupper fallen victim t...              12.0   \n",
       "4  This is Roscoe. Another pupper fallen victim t...              12.0   \n",
       "\n",
       "   rating_denominator    name DogStage  favorite_count  retweet_count  \n",
       "0                10.0  Cassie    doggo             NaN            NaN  \n",
       "1                10.0    None    puppo             NaN            NaN  \n",
       "2                10.0  Stuart    puppo             NaN            NaN  \n",
       "3                10.0  Roscoe   pupper          3316.0        21524.0  \n",
       "4                10.0  Roscoe   pupper          3316.0        21524.0  "
      ]
     },
     "execution_count": 11,
     "metadata": {},
     "output_type": "execute_result"
    }
   ],
   "source": [
    "# Checking out the first 5 rows\n",
    "df_twitter.head()"
   ]
  },
  {
   "cell_type": "code",
   "execution_count": 12,
   "metadata": {},
   "outputs": [
    {
     "data": {
      "text/html": [
       "<div>\n",
       "<style scoped>\n",
       "    .dataframe tbody tr th:only-of-type {\n",
       "        vertical-align: middle;\n",
       "    }\n",
       "\n",
       "    .dataframe tbody tr th {\n",
       "        vertical-align: top;\n",
       "    }\n",
       "\n",
       "    .dataframe thead th {\n",
       "        text-align: right;\n",
       "    }\n",
       "</style>\n",
       "<table border=\"1\" class=\"dataframe\">\n",
       "  <thead>\n",
       "    <tr style=\"text-align: right;\">\n",
       "      <th></th>\n",
       "      <th>DogStage</th>\n",
       "      <th>rating_numerator</th>\n",
       "    </tr>\n",
       "  </thead>\n",
       "  <tbody>\n",
       "    <tr>\n",
       "      <th>0</th>\n",
       "      <td>doggo</td>\n",
       "      <td>11.636364</td>\n",
       "    </tr>\n",
       "    <tr>\n",
       "      <th>1</th>\n",
       "      <td>doggopupper</td>\n",
       "      <td>11.900000</td>\n",
       "    </tr>\n",
       "    <tr>\n",
       "      <th>2</th>\n",
       "      <td>floofer</td>\n",
       "      <td>11.833333</td>\n",
       "    </tr>\n",
       "    <tr>\n",
       "      <th>3</th>\n",
       "      <td>pupper</td>\n",
       "      <td>10.674731</td>\n",
       "    </tr>\n",
       "    <tr>\n",
       "      <th>4</th>\n",
       "      <td>puppo</td>\n",
       "      <td>12.023810</td>\n",
       "    </tr>\n",
       "  </tbody>\n",
       "</table>\n",
       "</div>"
      ],
      "text/plain": [
       "      DogStage  rating_numerator\n",
       "0        doggo         11.636364\n",
       "1  doggopupper         11.900000\n",
       "2      floofer         11.833333\n",
       "3       pupper         10.674731\n",
       "4        puppo         12.023810"
      ]
     },
     "execution_count": 12,
     "metadata": {},
     "output_type": "execute_result"
    }
   ],
   "source": [
    "#Grouping the dogstage based on the ratings_numerator\n",
    "df_rating=df_twitter.groupby(['DogStage'])['rating_numerator'].mean()\n",
    "df_rating=pd.DataFrame(df_rating)\n",
    "df_rating.reset_index(inplace=True)\n",
    "df_rating.head()"
   ]
  },
  {
   "cell_type": "code",
   "execution_count": 13,
   "metadata": {},
   "outputs": [],
   "source": [
    "#Grouping the dogstage based on the favorite_count\n",
    "df_fav_count=df_twitter.groupby(['DogStage'])['favorite_count'].mean()\n",
    "df_fav_count=pd.DataFrame(df_fav_count)\n",
    "df_fav_count.reset_index(inplace=True)"
   ]
  },
  {
   "cell_type": "markdown",
   "metadata": {},
   "source": [
    "<b> Visualizing the ratings with respect to DogTypes</b>"
   ]
  },
  {
   "cell_type": "code",
   "execution_count": 14,
   "metadata": {},
   "outputs": [
    {
     "data": {
      "text/plain": [
       "Text(0.5,1,'Avg Ratings for dog types')"
      ]
     },
     "execution_count": 14,
     "metadata": {},
     "output_type": "execute_result"
    },
    {
     "data": {
      "image/png": "[encoded data removed]",
      "text/plain": [
       "<matplotlib.figure.Figure at 0x7f3540d2f898>"
      ]
     },
     "metadata": {
      "needs_background": "light"
     },
     "output_type": "display_data"
    }
   ],
   "source": [
    "plt.figure(figsize=(10,5))\n",
    "plt.bar(df_rating['DogStage'],df_rating['rating_numerator'],color='y',alpha=0.7)\n",
    "plt.xlabel('Avg Ratings',fontsize=15)\n",
    "plt.ylabel('Dog Types',fontsize=15)\n",
    "plt.title('Avg Ratings for dog types',fontsize=15)"
   ]
  },
  {
   "cell_type": "markdown",
   "metadata": {},
   "source": [
    "<b> Visualizing the Favourites with respect to DogTypes</b>"
   ]
  },
  {
   "cell_type": "code",
   "execution_count": 15,
   "metadata": {},
   "outputs": [
    {
     "data": {
      "text/plain": [
       "Text(0.5,1,'Avg Favourite count for dog types')"
      ]
     },
     "execution_count": 15,
     "metadata": {},
     "output_type": "execute_result"
    },
    {
     "data": {
      "image/png": "[encoded data removed]",
      "text/plain": [
       "<matplotlib.figure.Figure at 0x7f3540faa4a8>"
      ]
     },
     "metadata": {
      "needs_background": "light"
     },
     "output_type": "display_data"
    }
   ],
   "source": [
    "plt.figure(figsize=(10,5))\n",
    "plt.bar(df_fav_count['DogStage'],df_fav_count['favorite_count'],color='purple',alpha=0.8)\n",
    "plt.xlabel('Avg favourite counts',fontsize=15)\n",
    "plt.ylabel('Dog Types',fontsize=15)\n",
    "plt.title('Avg Favourite count for dog types',fontsize=15)"
   ]
  },
  {
   "cell_type": "markdown",
   "metadata": {},
   "source": [
    "<b>Inference: From the above insight on ratings with respect to dogStages all the breeds were more or less closer to each other.<br>\n",
    "But with respect to Favouries count, the puppo stage has been the most liked </b>"
   ]
  },
  {
   "cell_type": "markdown",
   "metadata": {},
   "source": [
    "<b> Checking if the Favorites and Retweets go hand in hand with numrator ratings </b>"
   ]
  },
  {
   "cell_type": "code",
   "execution_count": 16,
   "metadata": {},
   "outputs": [
    {
     "data": {
      "text/plain": [
       "Text(0.5,1,'Rating vs Favorite count ')"
      ]
     },
     "execution_count": 16,
     "metadata": {},
     "output_type": "execute_result"
    },
    {
     "data": {
      "image/png": "[encoded data removed]",
      "text/plain": [
       "<matplotlib.figure.Figure at 0x7f3540ccbc50>"
      ]
     },
     "metadata": {
      "needs_background": "light"
     },
     "output_type": "display_data"
    }
   ],
   "source": [
    "plt.figure(figsize=(10,5))\n",
    "plt.scatter(df_twitter['rating_numerator'],df_twitter['favorite_count'],color='purple',alpha=0.8)\n",
    "plt.xlabel('Rating',fontsize=15)\n",
    "plt.ylabel('Favorite count',fontsize=15)\n",
    "plt.title('Rating vs Favorite count ',fontsize=15)"
   ]
  },
  {
   "cell_type": "code",
   "execution_count": 17,
   "metadata": {},
   "outputs": [
    {
     "data": {
      "text/plain": [
       "Text(0.5,1,'Rating vs Retweet count ')"
      ]
     },
     "execution_count": 17,
     "metadata": {},
     "output_type": "execute_result"
    },
    {
     "data": {
      "image/png": "[encoded data removed]",
      "text/plain": [
       "<matplotlib.figure.Figure at 0x7f3540c15908>"
      ]
     },
     "metadata": {
      "needs_background": "light"
     },
     "output_type": "display_data"
    }
   ],
   "source": [
    "plt.figure(figsize=(10,5))\n",
    "plt.scatter(df_twitter['rating_numerator'],df_twitter['retweet_count'],color='purple',alpha=0.8)\n",
    "plt.xlabel('Rating',fontsize=15)\n",
    "plt.ylabel('Retweet count',fontsize=15)\n",
    "plt.title('Rating vs Retweet count ',fontsize=15)"
   ]
  },
  {
   "cell_type": "markdown",
   "metadata": {},
   "source": [
    "<b> Inference: Both a retweet and favourite counts are relative to ratings </b>"
   ]
  },
  {
   "cell_type": "markdown",
   "metadata": {},
   "source": [
    "<b> Combining the prediction data with twitter data </b>"
   ]
  },
  {
   "cell_type": "code",
   "execution_count": 18,
   "metadata": {},
   "outputs": [],
   "source": [
    "df_total=df_twitter.merge(df_pred,on='tweet_id',how='left')"
   ]
  },
  {
   "cell_type": "code",
   "execution_count": 19,
   "metadata": {},
   "outputs": [
    {
     "data": {
      "text/html": [
       "<div>\n",
       "<style scoped>\n",
       "    .dataframe tbody tr th:only-of-type {\n",
       "        vertical-align: middle;\n",
       "    }\n",
       "\n",
       "    .dataframe tbody tr th {\n",
       "        vertical-align: top;\n",
       "    }\n",
       "\n",
       "    .dataframe thead th {\n",
       "        text-align: right;\n",
       "    }\n",
       "</style>\n",
       "<table border=\"1\" class=\"dataframe\">\n",
       "  <thead>\n",
       "    <tr style=\"text-align: right;\">\n",
       "      <th></th>\n",
       "      <th>tweet_id</th>\n",
       "      <th>timestamp</th>\n",
       "      <th>text</th>\n",
       "      <th>rating_numerator</th>\n",
       "      <th>rating_denominator</th>\n",
       "      <th>name</th>\n",
       "      <th>DogStage</th>\n",
       "      <th>favorite_count</th>\n",
       "      <th>retweet_count</th>\n",
       "      <th>jpg_url</th>\n",
       "      <th>img_num</th>\n",
       "      <th>p1</th>\n",
       "      <th>p1_conf</th>\n",
       "      <th>p1_dog</th>\n",
       "      <th>p2</th>\n",
       "      <th>p2_conf</th>\n",
       "      <th>p2_dog</th>\n",
       "      <th>p3</th>\n",
       "      <th>p3_conf</th>\n",
       "      <th>p3_dog</th>\n",
       "    </tr>\n",
       "  </thead>\n",
       "  <tbody>\n",
       "    <tr>\n",
       "      <th>0</th>\n",
       "      <td>8.902403e+17</td>\n",
       "      <td>2017-07-26 15:59:51</td>\n",
       "      <td>This is Cassie. She is a college pup. Studying...</td>\n",
       "      <td>14.0</td>\n",
       "      <td>10.0</td>\n",
       "      <td>Cassie</td>\n",
       "      <td>doggo</td>\n",
       "      <td>NaN</td>\n",
       "      <td>NaN</td>\n",
       "      <td>NaN</td>\n",
       "      <td>NaN</td>\n",
       "      <td>NaN</td>\n",
       "      <td>NaN</td>\n",
       "      <td>NaN</td>\n",
       "      <td>NaN</td>\n",
       "      <td>NaN</td>\n",
       "      <td>NaN</td>\n",
       "      <td>NaN</td>\n",
       "      <td>NaN</td>\n",
       "      <td>NaN</td>\n",
       "    </tr>\n",
       "    <tr>\n",
       "      <th>1</th>\n",
       "      <td>8.896654e+17</td>\n",
       "      <td>2017-07-25 01:55:32</td>\n",
       "      <td>Here's a puppo that seems to be on the fence a...</td>\n",
       "      <td>13.0</td>\n",
       "      <td>10.0</td>\n",
       "      <td>None</td>\n",
       "      <td>puppo</td>\n",
       "      <td>NaN</td>\n",
       "      <td>NaN</td>\n",
       "      <td>NaN</td>\n",
       "      <td>NaN</td>\n",
       "      <td>NaN</td>\n",
       "      <td>NaN</td>\n",
       "      <td>NaN</td>\n",
       "      <td>NaN</td>\n",
       "      <td>NaN</td>\n",
       "      <td>NaN</td>\n",
       "      <td>NaN</td>\n",
       "      <td>NaN</td>\n",
       "      <td>NaN</td>\n",
       "    </tr>\n",
       "    <tr>\n",
       "      <th>2</th>\n",
       "      <td>8.895311e+17</td>\n",
       "      <td>2017-07-24 17:02:04</td>\n",
       "      <td>This is Stuart. He's sporting his favorite fan...</td>\n",
       "      <td>13.0</td>\n",
       "      <td>10.0</td>\n",
       "      <td>Stuart</td>\n",
       "      <td>puppo</td>\n",
       "      <td>NaN</td>\n",
       "      <td>NaN</td>\n",
       "      <td>NaN</td>\n",
       "      <td>NaN</td>\n",
       "      <td>NaN</td>\n",
       "      <td>NaN</td>\n",
       "      <td>NaN</td>\n",
       "      <td>NaN</td>\n",
       "      <td>NaN</td>\n",
       "      <td>NaN</td>\n",
       "      <td>NaN</td>\n",
       "      <td>NaN</td>\n",
       "      <td>NaN</td>\n",
       "    </tr>\n",
       "    <tr>\n",
       "      <th>3</th>\n",
       "      <td>8.863661e+17</td>\n",
       "      <td>2017-07-15 23:25:31</td>\n",
       "      <td>This is Roscoe. Another pupper fallen victim t...</td>\n",
       "      <td>12.0</td>\n",
       "      <td>10.0</td>\n",
       "      <td>Roscoe</td>\n",
       "      <td>pupper</td>\n",
       "      <td>3316.0</td>\n",
       "      <td>21524.0</td>\n",
       "      <td>https://pbs.twimg.com/media/DE0BTnQUwAApKEH.jpg</td>\n",
       "      <td>1.0</td>\n",
       "      <td>french_bulldog</td>\n",
       "      <td>0.999201</td>\n",
       "      <td>True</td>\n",
       "      <td>chihuahua</td>\n",
       "      <td>0.000361</td>\n",
       "      <td>True</td>\n",
       "      <td>boston_bull</td>\n",
       "      <td>0.000076</td>\n",
       "      <td>True</td>\n",
       "    </tr>\n",
       "    <tr>\n",
       "      <th>4</th>\n",
       "      <td>8.863661e+17</td>\n",
       "      <td>2017-07-15 23:25:31</td>\n",
       "      <td>This is Roscoe. Another pupper fallen victim t...</td>\n",
       "      <td>12.0</td>\n",
       "      <td>10.0</td>\n",
       "      <td>Roscoe</td>\n",
       "      <td>pupper</td>\n",
       "      <td>3316.0</td>\n",
       "      <td>21524.0</td>\n",
       "      <td>https://pbs.twimg.com/media/DE0BTnQUwAApKEH.jpg</td>\n",
       "      <td>1.0</td>\n",
       "      <td>french_bulldog</td>\n",
       "      <td>0.999201</td>\n",
       "      <td>True</td>\n",
       "      <td>chihuahua</td>\n",
       "      <td>0.000361</td>\n",
       "      <td>True</td>\n",
       "      <td>boston_bull</td>\n",
       "      <td>0.000076</td>\n",
       "      <td>True</td>\n",
       "    </tr>\n",
       "  </tbody>\n",
       "</table>\n",
       "</div>"
      ],
      "text/plain": [
       "       tweet_id            timestamp  \\\n",
       "0  8.902403e+17  2017-07-26 15:59:51   \n",
       "1  8.896654e+17  2017-07-25 01:55:32   \n",
       "2  8.895311e+17  2017-07-24 17:02:04   \n",
       "3  8.863661e+17  2017-07-15 23:25:31   \n",
       "4  8.863661e+17  2017-07-15 23:25:31   \n",
       "\n",
       "                                                text  rating_numerator  \\\n",
       "0  This is Cassie. She is a college pup. Studying...              14.0   \n",
       "1  Here's a puppo that seems to be on the fence a...              13.0   \n",
       "2  This is Stuart. He's sporting his favorite fan...              13.0   \n",
       "3  This is Roscoe. Another pupper fallen victim t...              12.0   \n",
       "4  This is Roscoe. Another pupper fallen victim t...              12.0   \n",
       "\n",
       "   rating_denominator    name DogStage  favorite_count  retweet_count  \\\n",
       "0                10.0  Cassie    doggo             NaN            NaN   \n",
       "1                10.0    None    puppo             NaN            NaN   \n",
       "2                10.0  Stuart    puppo             NaN            NaN   \n",
       "3                10.0  Roscoe   pupper          3316.0        21524.0   \n",
       "4                10.0  Roscoe   pupper          3316.0        21524.0   \n",
       "\n",
       "                                           jpg_url  img_num              p1  \\\n",
       "0                                              NaN      NaN             NaN   \n",
       "1                                              NaN      NaN             NaN   \n",
       "2                                              NaN      NaN             NaN   \n",
       "3  https://pbs.twimg.com/media/DE0BTnQUwAApKEH.jpg      1.0  french_bulldog   \n",
       "4  https://pbs.twimg.com/media/DE0BTnQUwAApKEH.jpg      1.0  french_bulldog   \n",
       "\n",
       "    p1_conf p1_dog         p2   p2_conf p2_dog           p3   p3_conf p3_dog  \n",
       "0       NaN    NaN        NaN       NaN    NaN          NaN       NaN    NaN  \n",
       "1       NaN    NaN        NaN       NaN    NaN          NaN       NaN    NaN  \n",
       "2       NaN    NaN        NaN       NaN    NaN          NaN       NaN    NaN  \n",
       "3  0.999201   True  chihuahua  0.000361   True  boston_bull  0.000076   True  \n",
       "4  0.999201   True  chihuahua  0.000361   True  boston_bull  0.000076   True  "
      ]
     },
     "execution_count": 19,
     "metadata": {},
     "output_type": "execute_result"
    }
   ],
   "source": [
    "df_total.head()"
   ]
  },
  {
   "cell_type": "markdown",
   "metadata": {},
   "source": [
    "<b> Visualizing the highest liked breeds </b>"
   ]
  },
  {
   "cell_type": "code",
   "execution_count": 20,
   "metadata": {},
   "outputs": [
    {
     "data": {
      "text/html": [
       "<div>\n",
       "<style scoped>\n",
       "    .dataframe tbody tr th:only-of-type {\n",
       "        vertical-align: middle;\n",
       "    }\n",
       "\n",
       "    .dataframe tbody tr th {\n",
       "        vertical-align: top;\n",
       "    }\n",
       "\n",
       "    .dataframe thead th {\n",
       "        text-align: right;\n",
       "    }\n",
       "</style>\n",
       "<table border=\"1\" class=\"dataframe\">\n",
       "  <thead>\n",
       "    <tr style=\"text-align: right;\">\n",
       "      <th></th>\n",
       "      <th>p1</th>\n",
       "      <th>favorite_count</th>\n",
       "    </tr>\n",
       "  </thead>\n",
       "  <tbody>\n",
       "    <tr>\n",
       "      <th>0</th>\n",
       "      <td>flat-coated_retriever</td>\n",
       "      <td>19196.0</td>\n",
       "    </tr>\n",
       "    <tr>\n",
       "      <th>1</th>\n",
       "      <td>cardigan</td>\n",
       "      <td>11007.0</td>\n",
       "    </tr>\n",
       "    <tr>\n",
       "      <th>2</th>\n",
       "      <td>rottweiler</td>\n",
       "      <td>10606.5</td>\n",
       "    </tr>\n",
       "    <tr>\n",
       "      <th>3</th>\n",
       "      <td>tibetan_mastiff</td>\n",
       "      <td>9907.0</td>\n",
       "    </tr>\n",
       "    <tr>\n",
       "      <th>4</th>\n",
       "      <td>chihuahua</td>\n",
       "      <td>8473.5</td>\n",
       "    </tr>\n",
       "  </tbody>\n",
       "</table>\n",
       "</div>"
      ],
      "text/plain": [
       "                      p1  favorite_count\n",
       "0  flat-coated_retriever         19196.0\n",
       "1               cardigan         11007.0\n",
       "2             rottweiler         10606.5\n",
       "3        tibetan_mastiff          9907.0\n",
       "4              chihuahua          8473.5"
      ]
     },
     "execution_count": 20,
     "metadata": {},
     "output_type": "execute_result"
    }
   ],
   "source": [
    "df_total.dropna(subset=['retweet_count','favorite_count','p1'],inplace=True)\n",
    "df_breeds=df_total.groupby('p1')['favorite_count'].mean()\n",
    "df_breeds=df_breeds.sort_values(ascending=False)\n",
    "df_breeds=pd.DataFrame(df_breeds).reset_index()\n",
    "df_breeds.head()"
   ]
  },
  {
   "cell_type": "code",
   "execution_count": 21,
   "metadata": {},
   "outputs": [
    {
     "data": {
      "text/plain": [
       "Text(0.5,1,'Top 5 liked breeds')"
      ]
     },
     "execution_count": 21,
     "metadata": {},
     "output_type": "execute_result"
    },
    {
     "data": {
      "image/png": "[encoded data removed]",
      "text/plain": [
       "<matplotlib.figure.Figure at 0x7f3540b94b00>"
      ]
     },
     "metadata": {
      "needs_background": "light"
     },
     "output_type": "display_data"
    }
   ],
   "source": [
    "plt.figure(figsize=(10,5))\n",
    "plt.barh(df_breeds['p1'].head(),df_breeds['favorite_count'].head(),color='blue',alpha=0.8)\n",
    "plt.xlabel('Avg retweet counts',fontsize=15)\n",
    "plt.ylabel('breeds',fontsize=15)\n",
    "plt.title('Top 5 liked breeds',fontsize=15)"
   ]
  },
  {
   "cell_type": "code",
   "execution_count": 22,
   "metadata": {},
   "outputs": [
    {
     "data": {
      "text/plain": [
       "Text(0.5,1,'Least 5 liked breeds')"
      ]
     },
     "execution_count": 22,
     "metadata": {},
     "output_type": "execute_result"
    },
    {
     "data": {
      "image/png": "[encoded data removed]",
      "text/plain": [
       "<matplotlib.figure.Figure at 0x7f3540bc93c8>"
      ]
     },
     "metadata": {
      "needs_background": "light"
     },
     "output_type": "display_data"
    }
   ],
   "source": [
    "plt.figure(figsize=(10,5))\n",
    "plt.barh(df_breeds['p1'].tail(),df_breeds['favorite_count'].tail(),color='red',alpha=0.8)\n",
    "plt.xlabel('Avg retweet counts',fontsize=15)\n",
    "plt.ylabel('breeds',fontsize=15)\n",
    "plt.title('Least 5 liked breeds',fontsize=15)"
   ]
  },
  {
   "cell_type": "markdown",
   "metadata": {},
   "source": [
    "<b> Rotweiller has been the most liked breed of them all in the WeRateDogs twitter account </b>"
   ]
  },
  {
   "cell_type": "markdown",
   "metadata": {},
   "source": [
    "<b> Getting an insight on how the least and most liked breed for each dog stages </b>"
   ]
  },
  {
   "cell_type": "code",
   "execution_count": 23,
   "metadata": {
    "scrolled": true
   },
   "outputs": [
    {
     "data": {
      "text/html": [
       "<div>\n",
       "<style scoped>\n",
       "    .dataframe tbody tr th:only-of-type {\n",
       "        vertical-align: middle;\n",
       "    }\n",
       "\n",
       "    .dataframe tbody tr th {\n",
       "        vertical-align: top;\n",
       "    }\n",
       "\n",
       "    .dataframe thead th {\n",
       "        text-align: right;\n",
       "    }\n",
       "</style>\n",
       "<table border=\"1\" class=\"dataframe\">\n",
       "  <thead>\n",
       "    <tr style=\"text-align: right;\">\n",
       "      <th></th>\n",
       "      <th></th>\n",
       "      <th>favorite_count</th>\n",
       "      <th>retweet_count</th>\n",
       "    </tr>\n",
       "    <tr>\n",
       "      <th>DogStage</th>\n",
       "      <th>p1</th>\n",
       "      <th></th>\n",
       "      <th></th>\n",
       "    </tr>\n",
       "  </thead>\n",
       "  <tbody>\n",
       "    <tr>\n",
       "      <th rowspan=\"13\" valign=\"top\">doggo</th>\n",
       "      <th>beagle</th>\n",
       "      <td>3472.000000</td>\n",
       "      <td>8295.000000</td>\n",
       "    </tr>\n",
       "    <tr>\n",
       "      <th>bedlington_terrier</th>\n",
       "      <td>1263.000000</td>\n",
       "      <td>4238.000000</td>\n",
       "    </tr>\n",
       "    <tr>\n",
       "      <th>briard</th>\n",
       "      <td>6470.000000</td>\n",
       "      <td>18630.000000</td>\n",
       "    </tr>\n",
       "    <tr>\n",
       "      <th>chesapeake_bay_retriever</th>\n",
       "      <td>4376.000000</td>\n",
       "      <td>12376.000000</td>\n",
       "    </tr>\n",
       "    <tr>\n",
       "      <th>cocker_spaniel</th>\n",
       "      <td>2090.000000</td>\n",
       "      <td>10192.000000</td>\n",
       "    </tr>\n",
       "    <tr>\n",
       "      <th>dandie_dinmont</th>\n",
       "      <td>2072.000000</td>\n",
       "      <td>8241.000000</td>\n",
       "    </tr>\n",
       "    <tr>\n",
       "      <th>german_shepherd</th>\n",
       "      <td>1846.000000</td>\n",
       "      <td>6642.000000</td>\n",
       "    </tr>\n",
       "    <tr>\n",
       "      <th>golden_retriever</th>\n",
       "      <td>6141.142857</td>\n",
       "      <td>16050.857143</td>\n",
       "    </tr>\n",
       "    <tr>\n",
       "      <th>great_dane</th>\n",
       "      <td>4207.000000</td>\n",
       "      <td>11694.000000</td>\n",
       "    </tr>\n",
       "    <tr>\n",
       "      <th>great_pyrenees</th>\n",
       "      <td>6920.000000</td>\n",
       "      <td>23378.000000</td>\n",
       "    </tr>\n",
       "    <tr>\n",
       "      <th>labrador_retriever</th>\n",
       "      <td>3999.000000</td>\n",
       "      <td>19775.000000</td>\n",
       "    </tr>\n",
       "    <tr>\n",
       "      <th>norwegian_elkhound</th>\n",
       "      <td>3652.000000</td>\n",
       "      <td>13242.000000</td>\n",
       "    </tr>\n",
       "    <tr>\n",
       "      <th>siberian_husky</th>\n",
       "      <td>2194.000000</td>\n",
       "      <td>10342.000000</td>\n",
       "    </tr>\n",
       "    <tr>\n",
       "      <th rowspan=\"2\" valign=\"top\">doggopupper</th>\n",
       "      <th>dalmatian</th>\n",
       "      <td>2429.000000</td>\n",
       "      <td>8992.000000</td>\n",
       "    </tr>\n",
       "    <tr>\n",
       "      <th>golden_retriever</th>\n",
       "      <td>2846.500000</td>\n",
       "      <td>8481.000000</td>\n",
       "    </tr>\n",
       "    <tr>\n",
       "      <th>floofer</th>\n",
       "      <th>english_springer</th>\n",
       "      <td>3433.000000</td>\n",
       "      <td>17169.000000</td>\n",
       "    </tr>\n",
       "    <tr>\n",
       "      <th rowspan=\"34\" valign=\"top\">pupper</th>\n",
       "      <th>american_staffordshire_terrier</th>\n",
       "      <td>2435.000000</td>\n",
       "      <td>5407.000000</td>\n",
       "    </tr>\n",
       "    <tr>\n",
       "      <th>bernese_mountain_dog</th>\n",
       "      <td>1620.000000</td>\n",
       "      <td>4489.000000</td>\n",
       "    </tr>\n",
       "    <tr>\n",
       "      <th>blenheim_spaniel</th>\n",
       "      <td>1876.000000</td>\n",
       "      <td>5897.000000</td>\n",
       "    </tr>\n",
       "    <tr>\n",
       "      <th>bloodhound</th>\n",
       "      <td>2393.500000</td>\n",
       "      <td>12257.500000</td>\n",
       "    </tr>\n",
       "    <tr>\n",
       "      <th>border_collie</th>\n",
       "      <td>723.000000</td>\n",
       "      <td>2881.000000</td>\n",
       "    </tr>\n",
       "    <tr>\n",
       "      <th>boxer</th>\n",
       "      <td>569.000000</td>\n",
       "      <td>2203.000000</td>\n",
       "    </tr>\n",
       "    <tr>\n",
       "      <th>brabancon_griffon</th>\n",
       "      <td>393.000000</td>\n",
       "      <td>1137.000000</td>\n",
       "    </tr>\n",
       "    <tr>\n",
       "      <th>briard</th>\n",
       "      <td>1264.000000</td>\n",
       "      <td>7117.000000</td>\n",
       "    </tr>\n",
       "    <tr>\n",
       "      <th>chihuahua</th>\n",
       "      <td>8473.500000</td>\n",
       "      <td>21437.500000</td>\n",
       "    </tr>\n",
       "    <tr>\n",
       "      <th>chow</th>\n",
       "      <td>1527.000000</td>\n",
       "      <td>4537.000000</td>\n",
       "    </tr>\n",
       "    <tr>\n",
       "      <th>cocker_spaniel</th>\n",
       "      <td>2671.000000</td>\n",
       "      <td>15193.500000</td>\n",
       "    </tr>\n",
       "    <tr>\n",
       "      <th>dalmatian</th>\n",
       "      <td>1505.000000</td>\n",
       "      <td>8485.000000</td>\n",
       "    </tr>\n",
       "    <tr>\n",
       "      <th>english_springer</th>\n",
       "      <td>579.000000</td>\n",
       "      <td>2232.000000</td>\n",
       "    </tr>\n",
       "    <tr>\n",
       "      <th>french_bulldog</th>\n",
       "      <td>2013.000000</td>\n",
       "      <td>12399.500000</td>\n",
       "    </tr>\n",
       "    <tr>\n",
       "      <th>...</th>\n",
       "      <td>...</td>\n",
       "      <td>...</td>\n",
       "    </tr>\n",
       "    <tr>\n",
       "      <th>miniature_pinscher</th>\n",
       "      <td>473.000000</td>\n",
       "      <td>2044.000000</td>\n",
       "    </tr>\n",
       "    <tr>\n",
       "      <th>miniature_poodle</th>\n",
       "      <td>1972.000000</td>\n",
       "      <td>3955.000000</td>\n",
       "    </tr>\n",
       "    <tr>\n",
       "      <th>norwegian_elkhound</th>\n",
       "      <td>7126.000000</td>\n",
       "      <td>24553.000000</td>\n",
       "    </tr>\n",
       "    <tr>\n",
       "      <th>norwich_terrier</th>\n",
       "      <td>912.000000</td>\n",
       "      <td>3072.000000</td>\n",
       "    </tr>\n",
       "    <tr>\n",
       "      <th>papillon</th>\n",
       "      <td>1094.666667</td>\n",
       "      <td>3803.333333</td>\n",
       "    </tr>\n",
       "    <tr>\n",
       "      <th>pekinese</th>\n",
       "      <td>3285.000000</td>\n",
       "      <td>8092.000000</td>\n",
       "    </tr>\n",
       "    <tr>\n",
       "      <th>pembroke</th>\n",
       "      <td>4942.285714</td>\n",
       "      <td>11058.714286</td>\n",
       "    </tr>\n",
       "    <tr>\n",
       "      <th>pomeranian</th>\n",
       "      <td>645.000000</td>\n",
       "      <td>2082.333333</td>\n",
       "    </tr>\n",
       "    <tr>\n",
       "      <th>pug</th>\n",
       "      <td>912.500000</td>\n",
       "      <td>2137.833333</td>\n",
       "    </tr>\n",
       "    <tr>\n",
       "      <th>redbone</th>\n",
       "      <td>3802.000000</td>\n",
       "      <td>8653.000000</td>\n",
       "    </tr>\n",
       "    <tr>\n",
       "      <th>rottweiler</th>\n",
       "      <td>1544.000000</td>\n",
       "      <td>4042.000000</td>\n",
       "    </tr>\n",
       "    <tr>\n",
       "      <th>shetland_sheepdog</th>\n",
       "      <td>3124.500000</td>\n",
       "      <td>12054.000000</td>\n",
       "    </tr>\n",
       "    <tr>\n",
       "      <th>shih-tzu</th>\n",
       "      <td>1239.000000</td>\n",
       "      <td>3116.000000</td>\n",
       "    </tr>\n",
       "    <tr>\n",
       "      <th>siberian_husky</th>\n",
       "      <td>2731.000000</td>\n",
       "      <td>17480.000000</td>\n",
       "    </tr>\n",
       "    <tr>\n",
       "      <th>staffordshire_bullterrier</th>\n",
       "      <td>842.000000</td>\n",
       "      <td>3397.000000</td>\n",
       "    </tr>\n",
       "    <tr>\n",
       "      <th>tibetan_mastiff</th>\n",
       "      <td>9907.000000</td>\n",
       "      <td>25057.000000</td>\n",
       "    </tr>\n",
       "    <tr>\n",
       "      <th>toy_poodle</th>\n",
       "      <td>2233.000000</td>\n",
       "      <td>5999.000000</td>\n",
       "    </tr>\n",
       "    <tr>\n",
       "      <th>vizsla</th>\n",
       "      <td>1667.000000</td>\n",
       "      <td>7467.000000</td>\n",
       "    </tr>\n",
       "    <tr>\n",
       "      <th>whippet</th>\n",
       "      <td>440.000000</td>\n",
       "      <td>1280.000000</td>\n",
       "    </tr>\n",
       "    <tr>\n",
       "      <th rowspan=\"11\" valign=\"top\">puppo</th>\n",
       "      <th>airedale</th>\n",
       "      <td>1738.000000</td>\n",
       "      <td>7114.000000</td>\n",
       "    </tr>\n",
       "    <tr>\n",
       "      <th>american_staffordshire_terrier</th>\n",
       "      <td>1369.000000</td>\n",
       "      <td>5927.000000</td>\n",
       "    </tr>\n",
       "    <tr>\n",
       "      <th>cardigan</th>\n",
       "      <td>11007.000000</td>\n",
       "      <td>35501.000000</td>\n",
       "    </tr>\n",
       "    <tr>\n",
       "      <th>eskimo_dog</th>\n",
       "      <td>2261.500000</td>\n",
       "      <td>8576.000000</td>\n",
       "    </tr>\n",
       "    <tr>\n",
       "      <th>flat-coated_retriever</th>\n",
       "      <td>19196.000000</td>\n",
       "      <td>47844.000000</td>\n",
       "    </tr>\n",
       "    <tr>\n",
       "      <th>german_shepherd</th>\n",
       "      <td>3240.000000</td>\n",
       "      <td>11416.000000</td>\n",
       "    </tr>\n",
       "    <tr>\n",
       "      <th>golden_retriever</th>\n",
       "      <td>1704.000000</td>\n",
       "      <td>19476.000000</td>\n",
       "    </tr>\n",
       "    <tr>\n",
       "      <th>malamute</th>\n",
       "      <td>1366.000000</td>\n",
       "      <td>4624.000000</td>\n",
       "    </tr>\n",
       "    <tr>\n",
       "      <th>miniature_pinscher</th>\n",
       "      <td>3220.000000</td>\n",
       "      <td>11203.000000</td>\n",
       "    </tr>\n",
       "    <tr>\n",
       "      <th>old_english_sheepdog</th>\n",
       "      <td>716.000000</td>\n",
       "      <td>3277.000000</td>\n",
       "    </tr>\n",
       "    <tr>\n",
       "      <th>rottweiler</th>\n",
       "      <td>19669.000000</td>\n",
       "      <td>56413.000000</td>\n",
       "    </tr>\n",
       "  </tbody>\n",
       "</table>\n",
       "<p>75 rows × 2 columns</p>\n",
       "</div>"
      ],
      "text/plain": [
       "                                            favorite_count  retweet_count\n",
       "DogStage    p1                                                           \n",
       "doggo       beagle                             3472.000000    8295.000000\n",
       "            bedlington_terrier                 1263.000000    4238.000000\n",
       "            briard                             6470.000000   18630.000000\n",
       "            chesapeake_bay_retriever           4376.000000   12376.000000\n",
       "            cocker_spaniel                     2090.000000   10192.000000\n",
       "            dandie_dinmont                     2072.000000    8241.000000\n",
       "            german_shepherd                    1846.000000    6642.000000\n",
       "            golden_retriever                   6141.142857   16050.857143\n",
       "            great_dane                         4207.000000   11694.000000\n",
       "            great_pyrenees                     6920.000000   23378.000000\n",
       "            labrador_retriever                 3999.000000   19775.000000\n",
       "            norwegian_elkhound                 3652.000000   13242.000000\n",
       "            siberian_husky                     2194.000000   10342.000000\n",
       "doggopupper dalmatian                          2429.000000    8992.000000\n",
       "            golden_retriever                   2846.500000    8481.000000\n",
       "floofer     english_springer                   3433.000000   17169.000000\n",
       "pupper      american_staffordshire_terrier     2435.000000    5407.000000\n",
       "            bernese_mountain_dog               1620.000000    4489.000000\n",
       "            blenheim_spaniel                   1876.000000    5897.000000\n",
       "            bloodhound                         2393.500000   12257.500000\n",
       "            border_collie                       723.000000    2881.000000\n",
       "            boxer                               569.000000    2203.000000\n",
       "            brabancon_griffon                   393.000000    1137.000000\n",
       "            briard                             1264.000000    7117.000000\n",
       "            chihuahua                          8473.500000   21437.500000\n",
       "            chow                               1527.000000    4537.000000\n",
       "            cocker_spaniel                     2671.000000   15193.500000\n",
       "            dalmatian                          1505.000000    8485.000000\n",
       "            english_springer                    579.000000    2232.000000\n",
       "            french_bulldog                     2013.000000   12399.500000\n",
       "...                                                    ...            ...\n",
       "            miniature_pinscher                  473.000000    2044.000000\n",
       "            miniature_poodle                   1972.000000    3955.000000\n",
       "            norwegian_elkhound                 7126.000000   24553.000000\n",
       "            norwich_terrier                     912.000000    3072.000000\n",
       "            papillon                           1094.666667    3803.333333\n",
       "            pekinese                           3285.000000    8092.000000\n",
       "            pembroke                           4942.285714   11058.714286\n",
       "            pomeranian                          645.000000    2082.333333\n",
       "            pug                                 912.500000    2137.833333\n",
       "            redbone                            3802.000000    8653.000000\n",
       "            rottweiler                         1544.000000    4042.000000\n",
       "            shetland_sheepdog                  3124.500000   12054.000000\n",
       "            shih-tzu                           1239.000000    3116.000000\n",
       "            siberian_husky                     2731.000000   17480.000000\n",
       "            staffordshire_bullterrier           842.000000    3397.000000\n",
       "            tibetan_mastiff                    9907.000000   25057.000000\n",
       "            toy_poodle                         2233.000000    5999.000000\n",
       "            vizsla                             1667.000000    7467.000000\n",
       "            whippet                             440.000000    1280.000000\n",
       "puppo       airedale                           1738.000000    7114.000000\n",
       "            american_staffordshire_terrier     1369.000000    5927.000000\n",
       "            cardigan                          11007.000000   35501.000000\n",
       "            eskimo_dog                         2261.500000    8576.000000\n",
       "            flat-coated_retriever             19196.000000   47844.000000\n",
       "            german_shepherd                    3240.000000   11416.000000\n",
       "            golden_retriever                   1704.000000   19476.000000\n",
       "            malamute                           1366.000000    4624.000000\n",
       "            miniature_pinscher                 3220.000000   11203.000000\n",
       "            old_english_sheepdog                716.000000    3277.000000\n",
       "            rottweiler                        19669.000000   56413.000000\n",
       "\n",
       "[75 rows x 2 columns]"
      ]
     },
     "execution_count": 23,
     "metadata": {},
     "output_type": "execute_result"
    }
   ],
   "source": [
    "df_dog_gr=df_total.groupby(['DogStage','p1']).mean()[['favorite_count','retweet_count']]\n",
    "df_dog_gr"
   ]
  },
  {
   "cell_type": "markdown",
   "metadata": {},
   "source": [
    "<b> As it can be inferred that Beagle was the least liked breed suprisingly and great_pyrenees is the most liked among Doggo stage.<br>\n",
    "Among puppo it is rottweiler which is the most liked and eskimo is the least liked dog. <br>\n",
    "Among pupper it is labrador_retriever which is the most liked breed and vizsla is the least liked breed</b>\n"
   ]
  },
  {
   "cell_type": "markdown",
   "metadata": {},
   "source": [
    "<b> Getting a statistical insight on the retweet and favourites count </b>"
   ]
  },
  {
   "cell_type": "code",
   "execution_count": 24,
   "metadata": {},
   "outputs": [
    {
     "data": {
      "text/html": [
       "<div>\n",
       "<style scoped>\n",
       "    .dataframe tbody tr th:only-of-type {\n",
       "        vertical-align: middle;\n",
       "    }\n",
       "\n",
       "    .dataframe tbody tr th {\n",
       "        vertical-align: top;\n",
       "    }\n",
       "\n",
       "    .dataframe thead th {\n",
       "        text-align: right;\n",
       "    }\n",
       "</style>\n",
       "<table border=\"1\" class=\"dataframe\">\n",
       "  <thead>\n",
       "    <tr style=\"text-align: right;\">\n",
       "      <th></th>\n",
       "      <th>tweet_id</th>\n",
       "      <th>rating_numerator</th>\n",
       "      <th>rating_denominator</th>\n",
       "      <th>favorite_count</th>\n",
       "      <th>retweet_count</th>\n",
       "      <th>img_num</th>\n",
       "      <th>p1_conf</th>\n",
       "      <th>p2_conf</th>\n",
       "      <th>p3_conf</th>\n",
       "    </tr>\n",
       "  </thead>\n",
       "  <tbody>\n",
       "    <tr>\n",
       "      <th>count</th>\n",
       "      <td>2.380000e+02</td>\n",
       "      <td>238.000000</td>\n",
       "      <td>238.0</td>\n",
       "      <td>238.000000</td>\n",
       "      <td>238.000000</td>\n",
       "      <td>238.000000</td>\n",
       "      <td>238.000000</td>\n",
       "      <td>238.000000</td>\n",
       "      <td>238.000000</td>\n",
       "    </tr>\n",
       "    <tr>\n",
       "      <th>mean</th>\n",
       "      <td>7.480821e+17</td>\n",
       "      <td>11.201681</td>\n",
       "      <td>10.0</td>\n",
       "      <td>3111.000000</td>\n",
       "      <td>10016.831933</td>\n",
       "      <td>1.344538</td>\n",
       "      <td>0.653157</td>\n",
       "      <td>0.143845</td>\n",
       "      <td>0.056021</td>\n",
       "    </tr>\n",
       "    <tr>\n",
       "      <th>std</th>\n",
       "      <td>6.705363e+16</td>\n",
       "      <td>1.372299</td>\n",
       "      <td>0.0</td>\n",
       "      <td>4141.144938</td>\n",
       "      <td>11172.659979</td>\n",
       "      <td>0.704859</td>\n",
       "      <td>0.235781</td>\n",
       "      <td>0.111160</td>\n",
       "      <td>0.048752</td>\n",
       "    </tr>\n",
       "    <tr>\n",
       "      <th>min</th>\n",
       "      <td>6.721600e+17</td>\n",
       "      <td>8.000000</td>\n",
       "      <td>10.0</td>\n",
       "      <td>103.000000</td>\n",
       "      <td>693.000000</td>\n",
       "      <td>1.000000</td>\n",
       "      <td>0.100499</td>\n",
       "      <td>0.000068</td>\n",
       "      <td>0.000034</td>\n",
       "    </tr>\n",
       "    <tr>\n",
       "      <th>25%</th>\n",
       "      <td>6.834674e+17</td>\n",
       "      <td>10.000000</td>\n",
       "      <td>10.0</td>\n",
       "      <td>998.500000</td>\n",
       "      <td>2891.750000</td>\n",
       "      <td>1.000000</td>\n",
       "      <td>0.457129</td>\n",
       "      <td>0.049728</td>\n",
       "      <td>0.017047</td>\n",
       "    </tr>\n",
       "    <tr>\n",
       "      <th>50%</th>\n",
       "      <td>7.410673e+17</td>\n",
       "      <td>11.000000</td>\n",
       "      <td>10.0</td>\n",
       "      <td>1704.000000</td>\n",
       "      <td>5999.000000</td>\n",
       "      <td>1.000000</td>\n",
       "      <td>0.698165</td>\n",
       "      <td>0.120530</td>\n",
       "      <td>0.036320</td>\n",
       "    </tr>\n",
       "    <tr>\n",
       "      <th>75%</th>\n",
       "      <td>8.126694e+17</td>\n",
       "      <td>12.000000</td>\n",
       "      <td>10.0</td>\n",
       "      <td>3462.250000</td>\n",
       "      <td>11650.250000</td>\n",
       "      <td>1.000000</td>\n",
       "      <td>0.843346</td>\n",
       "      <td>0.217866</td>\n",
       "      <td>0.091880</td>\n",
       "    </tr>\n",
       "    <tr>\n",
       "      <th>max</th>\n",
       "      <td>8.863661e+17</td>\n",
       "      <td>14.000000</td>\n",
       "      <td>10.0</td>\n",
       "      <td>27728.000000</td>\n",
       "      <td>56413.000000</td>\n",
       "      <td>4.000000</td>\n",
       "      <td>0.999828</td>\n",
       "      <td>0.467678</td>\n",
       "      <td>0.181985</td>\n",
       "    </tr>\n",
       "  </tbody>\n",
       "</table>\n",
       "</div>"
      ],
      "text/plain": [
       "           tweet_id  rating_numerator  rating_denominator  favorite_count  \\\n",
       "count  2.380000e+02        238.000000               238.0      238.000000   \n",
       "mean   7.480821e+17         11.201681                10.0     3111.000000   \n",
       "std    6.705363e+16          1.372299                 0.0     4141.144938   \n",
       "min    6.721600e+17          8.000000                10.0      103.000000   \n",
       "25%    6.834674e+17         10.000000                10.0      998.500000   \n",
       "50%    7.410673e+17         11.000000                10.0     1704.000000   \n",
       "75%    8.126694e+17         12.000000                10.0     3462.250000   \n",
       "max    8.863661e+17         14.000000                10.0    27728.000000   \n",
       "\n",
       "       retweet_count     img_num     p1_conf     p2_conf     p3_conf  \n",
       "count     238.000000  238.000000  238.000000  238.000000  238.000000  \n",
       "mean    10016.831933    1.344538    0.653157    0.143845    0.056021  \n",
       "std     11172.659979    0.704859    0.235781    0.111160    0.048752  \n",
       "min       693.000000    1.000000    0.100499    0.000068    0.000034  \n",
       "25%      2891.750000    1.000000    0.457129    0.049728    0.017047  \n",
       "50%      5999.000000    1.000000    0.698165    0.120530    0.036320  \n",
       "75%     11650.250000    1.000000    0.843346    0.217866    0.091880  \n",
       "max     56413.000000    4.000000    0.999828    0.467678    0.181985  "
      ]
     },
     "execution_count": 24,
     "metadata": {},
     "output_type": "execute_result"
    }
   ],
   "source": [
    "df_total.describe()"
   ]
  },
  {
   "cell_type": "markdown",
   "metadata": {},
   "source": [
    "<b> Inference: The retweet count and favourites count has a mean of 4511 and 16397 with the favourite count having a larger spread.\n",
    "    the Alogorithm-1 has the highest confidence interval with a larger spread tham the other two </b>"
   ]
  },
  {
   "cell_type": "code",
   "execution_count": null,
   "metadata": {},
   "outputs": [],
   "source": []
  }
 ],
 "metadata": {
  "kernelspec": {
   "display_name": "Python 3",
   "language": "python",
   "name": "python3"
  },
  "language_info": {
   "codemirror_mode": {
    "name": "ipython",
    "version": 3
   },
   "file_extension": ".py",
   "mimetype": "text/x-python",
   "name": "python",
   "nbconvert_exporter": "python",
   "pygments_lexer": "ipython3",
   "version": "3.6.3"
  }
 },
 "nbformat": 4,
 "nbformat_minor": 2
}
